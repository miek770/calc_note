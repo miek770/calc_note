{
 "cells": [
  {
   "cell_type": "code",
   "execution_count": 1,
   "id": "68e21ae3-c814-448b-86f7-0f50c5fa83f5",
   "metadata": {},
   "outputs": [],
   "source": [
    "from calc_note.display import *"
   ]
  },
  {
   "cell_type": "code",
   "execution_count": 2,
   "id": "320feabd-3187-4719-91fc-0a6e69064d22",
   "metadata": {},
   "outputs": [],
   "source": [
    "import pandas as pd"
   ]
  },
  {
   "cell_type": "code",
   "execution_count": 3,
   "id": "2bc62c64-93cc-442d-b7e5-75edd44220d2",
   "metadata": {},
   "outputs": [],
   "source": [
    "data = [\n",
    "    {\n",
    "        \"City\": \"Montréal\",\n",
    "        \"Province\": \"Québec\",\n",
    "        \"Confusing?\": \"No\",\n",
    "        \"Letters\": 8,\n",
    "    },\n",
    "    {\n",
    "        \"City\": \"Québec\",\n",
    "        \"Province\": \"Québec\",\n",
    "        \"Confusing?\": \"Perhaps\",\n",
    "        \"Letters\": 6,\n",
    "    },\n",
    "]\n",
    "df = pd.DataFrame(data)"
   ]
  },
  {
   "cell_type": "markdown",
   "id": "39067b2e",
   "metadata": {},
   "source": [
    "Default DataFrame representation (looks fine in Jupyter; looks terrible in PDF):"
   ]
  },
  {
   "cell_type": "code",
   "execution_count": 4,
   "id": "45cffe10-fd0c-4b51-a10f-d600bb214ddf",
   "metadata": {},
   "outputs": [
    {
     "data": {
      "text/html": [
       "<div>\n",
       "<style scoped>\n",
       "    .dataframe tbody tr th:only-of-type {\n",
       "        vertical-align: middle;\n",
       "    }\n",
       "\n",
       "    .dataframe tbody tr th {\n",
       "        vertical-align: top;\n",
       "    }\n",
       "\n",
       "    .dataframe thead th {\n",
       "        text-align: right;\n",
       "    }\n",
       "</style>\n",
       "<table border=\"1\" class=\"dataframe\">\n",
       "  <thead>\n",
       "    <tr style=\"text-align: right;\">\n",
       "      <th></th>\n",
       "      <th>City</th>\n",
       "      <th>Province</th>\n",
       "      <th>Confusing?</th>\n",
       "      <th>Letters</th>\n",
       "    </tr>\n",
       "  </thead>\n",
       "  <tbody>\n",
       "    <tr>\n",
       "      <th>0</th>\n",
       "      <td>Montréal</td>\n",
       "      <td>Québec</td>\n",
       "      <td>No</td>\n",
       "      <td>8</td>\n",
       "    </tr>\n",
       "    <tr>\n",
       "      <th>1</th>\n",
       "      <td>Québec</td>\n",
       "      <td>Québec</td>\n",
       "      <td>Perhaps</td>\n",
       "      <td>6</td>\n",
       "    </tr>\n",
       "  </tbody>\n",
       "</table>\n",
       "</div>"
      ],
      "text/plain": [
       "       City Province Confusing?  Letters\n",
       "0  Montréal   Québec         No        8\n",
       "1    Québec   Québec    Perhaps        6"
      ]
     },
     "execution_count": 4,
     "metadata": {},
     "output_type": "execute_result"
    }
   ],
   "source": [
    "df"
   ]
  },
  {
   "cell_type": "markdown",
   "id": "7f5c9e7d",
   "metadata": {},
   "source": [
    "Improved DataFrame representation (looks the same in Jupyter; looks great in PDF):"
   ]
  },
  {
   "cell_type": "code",
   "execution_count": 5,
   "id": "d898d09d-8fb1-4673-81ce-ccb9a760b0bf",
   "metadata": {},
   "outputs": [
    {
     "data": {
      "text/markdown": [
       "|    | City     | Province   | Confusing?   |   Letters |\n",
       "|---:|:---------|:-----------|:-------------|----------:|\n",
       "|  0 | Montréal | Québec     | No           |         8 |\n",
       "|  1 | Québec   | Québec     | Perhaps      |         6 |"
      ],
      "text/plain": [
       "<IPython.core.display.Markdown object>"
      ]
     },
     "metadata": {},
     "output_type": "display_data"
    }
   ],
   "source": [
    "show(df)"
   ]
  },
  {
   "cell_type": "markdown",
   "id": "fb28eef2",
   "metadata": {},
   "source": [
    "Variable representation with the `%%render` cell magic:"
   ]
  },
  {
   "cell_type": "code",
   "execution_count": 6,
   "id": "6ea9c4d1-233a-43de-befd-f74115c9b1c8",
   "metadata": {},
   "outputs": [
    {
     "data": {
      "text/latex": [
       "\\[\n",
       "\\begin{aligned}\n",
       "\\mathrm{surface} &= 10 \\; \\;\\textrm{(m²)}\n",
       "\\end{aligned}\n",
       "\\]"
      ],
      "text/plain": [
       "<IPython.core.display.Latex object>"
      ]
     },
     "metadata": {},
     "output_type": "display_data"
    }
   ],
   "source": [
    "%%render\n",
    "surface = 10  # m²"
   ]
  },
  {
   "cell_type": "markdown",
   "id": "6059102b",
   "metadata": {},
   "source": [
    "Variable representation with the `md(str)` method:"
   ]
  },
  {
   "cell_type": "code",
   "execution_count": 7,
   "id": "e6e814f1-ff77-4af4-bfba-c6d2925013f4",
   "metadata": {},
   "outputs": [
    {
     "data": {
      "text/markdown": [
       "# This *room* has a 10 m² surface"
      ],
      "text/plain": [
       "<IPython.core.display.Markdown object>"
      ]
     },
     "execution_count": 7,
     "metadata": {},
     "output_type": "execute_result"
    }
   ],
   "source": [
    "md(f\"# This *room* has a {surface} m² surface\")"
   ]
  }
 ],
 "metadata": {
  "kernelspec": {
   "display_name": "Python 3 (ipykernel)",
   "language": "python",
   "name": "python3"
  },
  "language_info": {
   "codemirror_mode": {
    "name": "ipython",
    "version": 3
   },
   "file_extension": ".py",
   "mimetype": "text/x-python",
   "name": "python",
   "nbconvert_exporter": "python",
   "pygments_lexer": "ipython3",
   "version": "3.12.4"
  }
 },
 "nbformat": 4,
 "nbformat_minor": 5
}
